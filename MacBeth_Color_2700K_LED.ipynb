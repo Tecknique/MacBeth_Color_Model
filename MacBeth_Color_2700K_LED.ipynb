{
 "cells": [
  {
   "cell_type": "code",
   "execution_count": 1,
   "metadata": {},
   "outputs": [
    {
     "name": "stderr",
     "output_type": "stream",
     "text": [
      "C:\\Users\\robin\\Anaconda2\\lib\\site-packages\\matplotlib\\__init__.py:913: UserWarning: axes.color_cycle is deprecated and replaced with axes.prop_cycle; please use the latter.\n",
      "  warnings.warn(self.msg_depr % (key, alt_key))\n"
     ]
    }
   ],
   "source": [
    "import matplotlib.pyplot as plt\n",
    "import colour\n",
    "from colour.plotting import *\n",
    "import numpy as np\n",
    "import pandas as pd\n",
    "import math\n",
    "import warnings\n",
    "warnings.filterwarnings('ignore')\n",
    "from scipy.interpolate import interp1d\n",
    "%matplotlib inline"
   ]
  },
  {
   "cell_type": "code",
   "execution_count": 2,
   "metadata": {},
   "outputs": [],
   "source": [
    "df = pd.read_csv('D:/Python_Database/MacbethColorChecker.csv')\n",
    "light = pd.read_csv('D:/Python_Database/Copy of 2700K Blue.csv')\n",
    "XYZ = pd.read_csv('D:/Python_Database/XYZ_Color_Function.csv')[3:84]"
   ]
  },
  {
   "cell_type": "code",
   "execution_count": 3,
   "metadata": {},
   "outputs": [
    {
     "data": {
      "text/html": [
       "<div>\n",
       "<style>\n",
       "    .dataframe thead tr:only-child th {\n",
       "        text-align: right;\n",
       "    }\n",
       "\n",
       "    .dataframe thead th {\n",
       "        text-align: left;\n",
       "    }\n",
       "\n",
       "    .dataframe tbody tr th {\n",
       "        vertical-align: top;\n",
       "    }\n",
       "</style>\n",
       "<table border=\"1\" class=\"dataframe\">\n",
       "  <thead>\n",
       "    <tr style=\"text-align: right;\">\n",
       "      <th></th>\n",
       "      <th>wavelength</th>\n",
       "      <th>irradiance</th>\n",
       "    </tr>\n",
       "  </thead>\n",
       "  <tbody>\n",
       "    <tr>\n",
       "      <th>396</th>\n",
       "      <td>776</td>\n",
       "      <td>0.0148</td>\n",
       "    </tr>\n",
       "    <tr>\n",
       "      <th>397</th>\n",
       "      <td>777</td>\n",
       "      <td>0.0140</td>\n",
       "    </tr>\n",
       "    <tr>\n",
       "      <th>398</th>\n",
       "      <td>778</td>\n",
       "      <td>0.0135</td>\n",
       "    </tr>\n",
       "    <tr>\n",
       "      <th>399</th>\n",
       "      <td>779</td>\n",
       "      <td>0.0140</td>\n",
       "    </tr>\n",
       "    <tr>\n",
       "      <th>400</th>\n",
       "      <td>780</td>\n",
       "      <td>0.0119</td>\n",
       "    </tr>\n",
       "  </tbody>\n",
       "</table>\n",
       "</div>"
      ],
      "text/plain": [
       "     wavelength  irradiance\n",
       "396         776      0.0148\n",
       "397         777      0.0140\n",
       "398         778      0.0135\n",
       "399         779      0.0140\n",
       "400         780      0.0119"
      ]
     },
     "execution_count": 3,
     "metadata": {},
     "output_type": "execute_result"
    }
   ],
   "source": [
    "light.tail()"
   ]
  },
  {
   "cell_type": "code",
   "execution_count": 4,
   "metadata": {},
   "outputs": [
    {
     "data": {
      "text/plain": [
       "<matplotlib.text.Text at 0xef4d358>"
      ]
     },
     "execution_count": 4,
     "metadata": {},
     "output_type": "execute_result"
    },
    {
     "data": {
      "image/png": "[encoded data removed]",
      "text/plain": [
       "<matplotlib.figure.Figure at 0xebe2780>"
      ]
     },
     "metadata": {},
     "output_type": "display_data"
    }
   ],
   "source": [
    "plt.plot(light['wavelength'], light['irradiance'])\n",
    "plt.ylabel('Normalized Irradiance')\n",
    "plt.xlabel('Wavelength (nm)')\n",
    "plt.grid()\n",
    "plt.title('2700 K White LED \\n')"
   ]
  },
  {
   "cell_type": "code",
   "execution_count": 5,
   "metadata": {},
   "outputs": [],
   "source": [
    "df.drop('Unnamed: 25', axis=1, inplace=True)\n",
    "df.drop('Patch Numbers', axis=1, inplace=True)\n",
    "df.drop('wavelength', axis=1, inplace=True)\n",
    "\n",
    "wave = range(380, 785, 5)\n"
   ]
  },
  {
   "cell_type": "code",
   "execution_count": 6,
   "metadata": {},
   "outputs": [],
   "source": [
    "F = interp1d(light['wavelength'], light['irradiance'], kind='linear')\n",
    "light = F(wave)\n",
    "light = pd.DataFrame(light)"
   ]
  },
  {
   "cell_type": "code",
   "execution_count": 7,
   "metadata": {},
   "outputs": [],
   "source": [
    "XYZ = XYZ.rename(columns = {XYZ.columns[0]:'wave', XYZ.columns[1]:'X', XYZ.columns[2]:'Y', XYZ.columns[3]:'Z'})\n",
    "XYZ.set_index([range(0,len(XYZ['X']),1)], inplace = True)\n",
    "X_Bar, Y_Bar, Z_Bar = XYZ['X'], XYZ['Y'], XYZ['Z']\n",
    "XYZ.drop('wave', axis=1, inplace=True)\n",
    "X_Bar=pd.DataFrame(X_Bar)\n",
    "Y_Bar=pd.DataFrame(Y_Bar)\n",
    "Z_Bar=pd.DataFrame(Z_Bar)"
   ]
  },
  {
   "cell_type": "code",
   "execution_count": 8,
   "metadata": {},
   "outputs": [],
   "source": [
    "X_light = pd.DataFrame(light.values*X_Bar.values, columns=light.columns, index=light.index)\n",
    "Y_light = pd.DataFrame(light.values*Y_Bar.values, columns=light.columns, index=light.index)\n",
    "Z_light = pd.DataFrame(light.values*Z_Bar.values, columns=light.columns, index=light.index)"
   ]
  },
  {
   "cell_type": "code",
   "execution_count": 9,
   "metadata": {},
   "outputs": [],
   "source": [
    "X_light=X_light.sum()\n",
    "Y_light=Y_light.sum()\n",
    "Z_light=Z_light.sum()\n",
    "\n",
    "Y = Y_light.tolist()[0]"
   ]
  },
  {
   "cell_type": "code",
   "execution_count": 10,
   "metadata": {},
   "outputs": [],
   "source": [
    "df_light = pd.DataFrame(df.values*light.values, columns=df.columns, index=df.index)"
   ]
  },
  {
   "cell_type": "code",
   "execution_count": 11,
   "metadata": {},
   "outputs": [],
   "source": [
    "x_bar = pd.DataFrame(df_light.values*X_Bar.values, columns=df_light.columns, index=df_light.index)\n",
    "\n",
    "y_bar = pd.DataFrame(df_light.values*Y_Bar.values, columns=df_light.columns, index=df_light.index)\n",
    "\n",
    "z_bar = pd.DataFrame(df_light.values*Z_Bar.values, columns=df_light.columns, index=df_light.index)\n"
   ]
  },
  {
   "cell_type": "code",
   "execution_count": 12,
   "metadata": {},
   "outputs": [],
   "source": [
    "x_bar = pd.DataFrame(x_bar.sum())/Y\n",
    "y_bar = pd.DataFrame(y_bar.sum())/Y\n",
    "z_bar = pd.DataFrame(z_bar.sum())/Y\n"
   ]
  },
  {
   "cell_type": "code",
   "execution_count": 13,
   "metadata": {
    "collapsed": true
   },
   "outputs": [],
   "source": [
    "var_R = pd.DataFrame(x_bar*3.2406 + y_bar*-1.5372 + z_bar*-0.4986, columns=x_bar.columns, index=x_bar.index)\n",
    "var_G = pd.DataFrame(x_bar*-0.9686 + y_bar*1.8758 + z_bar*0.0415, columns=x_bar.columns, index=x_bar.index)\n",
    "var_B = pd.DataFrame(x_bar*0.0557 + y_bar*-0.2040 + z_bar*1.0570, columns=x_bar.columns, index=x_bar.index)"
   ]
  },
  {
   "cell_type": "code",
   "execution_count": 14,
   "metadata": {},
   "outputs": [],
   "source": [
    "r,g,b = var_R.ix[:,0].tolist(), var_G.ix[:,0].tolist(), var_B.ix[:,0].tolist()"
   ]
  },
  {
   "cell_type": "code",
   "execution_count": 15,
   "metadata": {
    "collapsed": true
   },
   "outputs": [],
   "source": [
    "r_cor, g_cor, b_cor = [], [], []\n",
    "\n",
    "for i in range(len(r)):\n",
    "    if r[i] > 1:\n",
    "        r_temp = (1 + 0.055)*((1**(1/2.4)) - 0.055)\n",
    "    elif r[i] <= 0.0:\n",
    "        r_temp = 0.0\n",
    "    elif r[i] <= 0.0031308:\n",
    "        r_temp = 12.92*r[i]\n",
    "    else:\n",
    "        r_temp = (1 + 0.055)*((r[i]**(1/2.4)) - 0.055)\n",
    "        \n",
    "    r_cor.append(r_temp)\n",
    "\n",
    "for i in range(len(g)):\n",
    "    if g[i] > 1:\n",
    "        g_temp = (1 + 0.055)*((1**(1/2.4)) - 0.055)\n",
    "    elif g[i] <= 0.0:\n",
    "        g_temp = 0.0    \n",
    "    elif g[i] <= 0.0031308:\n",
    "        g_temp = 12.92*g[i]\n",
    "    else:\n",
    "        g_temp = (1 + 0.055)*((g[i]**(1/2.4)) - 0.055)\n",
    "        \n",
    "    g_cor.append(g_temp)\n",
    "    \n",
    "for i in range(len(b)):\n",
    "    if b[i] > 1:\n",
    "        b_temp = (1 + 0.055)*((1**(1/2.4)) - 0.055)\n",
    "    elif b[i] <= 0.0:\n",
    "        b_temp = 0.0\n",
    "    elif b[i] <= 0.0031308:\n",
    "        b_temp = 12.92*b[i]\n",
    "    else:\n",
    "        b_temp = (1 + 0.055)*((b[i]**(1/2.4)) - 0.055)\n",
    "        \n",
    "    b_cor.append(b_temp)"
   ]
  },
  {
   "cell_type": "code",
   "execution_count": 16,
   "metadata": {},
   "outputs": [],
   "source": [
    "rgb = zip(r_cor,g_cor,b_cor)"
   ]
  },
  {
   "cell_type": "code",
   "execution_count": 17,
   "metadata": {},
   "outputs": [
    {
     "data": {
      "image/png": "[encoded data removed]",
      "text/plain": [
       "<matplotlib.figure.Figure at 0xef6b160>"
      ]
     },
     "metadata": {},
     "output_type": "display_data"
    }
   ],
   "source": [
    "fig, ax = plt.subplots(4,6)\n",
    "fig.subplots_adjust(wspace=0, hspace=0)\n",
    "\n",
    "ax[0,0].yaxis.set_visible(False)\n",
    "ax[0,0].xaxis.set_visible(False)\n",
    "ax[0,0].set_axis_bgcolor('#735244')\n",
    "ax[0,1].yaxis.set_visible(False)\n",
    "ax[0,1].xaxis.set_visible(False)\n",
    "ax[0,1].set_axis_bgcolor('#c29682')\n",
    "ax[0,2].yaxis.set_visible(False)\n",
    "ax[0,2].xaxis.set_visible(False)\n",
    "ax[0,2].set_axis_bgcolor('#627a9d')\n",
    "ax[0,3].yaxis.set_visible(False)\n",
    "ax[0,3].xaxis.set_visible(False)\n",
    "ax[0,3].set_axis_bgcolor('#576c43')\n",
    "ax[0,4].yaxis.set_visible(False)\n",
    "ax[0,4].xaxis.set_visible(False)\n",
    "ax[0,4].set_axis_bgcolor('#8580b1')\n",
    "ax[0,5].yaxis.set_visible(False)\n",
    "ax[0,5].xaxis.set_visible(False)\n",
    "ax[0,5].set_axis_bgcolor('#67bdaa')\n",
    "ax[1,0].yaxis.set_visible(False)\n",
    "ax[1,0].xaxis.set_visible(False)\n",
    "ax[1,0].set_axis_bgcolor('#d67e2c')\n",
    "ax[1,1].yaxis.set_visible(False)\n",
    "ax[1,1].xaxis.set_visible(False)\n",
    "ax[1,1].set_axis_bgcolor('#505ba6')\n",
    "ax[1,2].yaxis.set_visible(False)\n",
    "ax[1,2].xaxis.set_visible(False)\n",
    "ax[1,2].set_axis_bgcolor('#c15a63')\n",
    "ax[1,3].yaxis.set_visible(False)\n",
    "ax[1,3].xaxis.set_visible(False)\n",
    "ax[1,3].set_axis_bgcolor('#5e3c6c')\n",
    "ax[1,4].yaxis.set_visible(False)\n",
    "ax[1,4].xaxis.set_visible(False)\n",
    "ax[1,4].set_axis_bgcolor('#9dbc40')\n",
    "ax[1,5].yaxis.set_visible(False)\n",
    "ax[1,5].xaxis.set_visible(False)\n",
    "ax[1,5].set_axis_bgcolor('#e0a32e')\n",
    "ax[2,0].yaxis.set_visible(False)\n",
    "ax[2,0].xaxis.set_visible(False)\n",
    "ax[2,0].set_axis_bgcolor('#383d96')\n",
    "ax[2,1].yaxis.set_visible(False)\n",
    "ax[2,1].xaxis.set_visible(False)\n",
    "ax[2,1].set_axis_bgcolor('#469449')\n",
    "ax[2,2].yaxis.set_visible(False)\n",
    "ax[2,2].xaxis.set_visible(False)\n",
    "ax[2,2].set_axis_bgcolor('#af363c')\n",
    "ax[2,3].yaxis.set_visible(False)\n",
    "ax[2,3].xaxis.set_visible(False)\n",
    "ax[2,3].set_axis_bgcolor('#e7c71f')\n",
    "ax[2,4].yaxis.set_visible(False)\n",
    "ax[2,4].xaxis.set_visible(False)\n",
    "ax[2,4].set_axis_bgcolor('#bb5695')\n",
    "ax[2,5].yaxis.set_visible(False)\n",
    "ax[2,5].xaxis.set_visible(False)\n",
    "ax[2,5].set_axis_bgcolor('#0885a1')\n",
    "ax[3,0].yaxis.set_visible(False)\n",
    "ax[3,0].xaxis.set_visible(False)\n",
    "ax[3,0].set_axis_bgcolor('#f3f3f2')\n",
    "ax[3,1].yaxis.set_visible(False)\n",
    "ax[3,1].xaxis.set_visible(False)\n",
    "ax[3,1].set_axis_bgcolor('#c8c8c8')\n",
    "ax[3,2].yaxis.set_visible(False)\n",
    "ax[3,2].xaxis.set_visible(False)\n",
    "ax[3,2].set_axis_bgcolor('#a0a0a0')\n",
    "ax[3,3].yaxis.set_visible(False)\n",
    "ax[3,3].xaxis.set_visible(False)\n",
    "ax[3,3].set_axis_bgcolor('#7a7a79')\n",
    "ax[3,4].yaxis.set_visible(False)\n",
    "ax[3,4].xaxis.set_visible(False)\n",
    "ax[3,4].set_axis_bgcolor('#555555')\n",
    "ax[3,5].yaxis.set_visible(False)\n",
    "ax[3,5].xaxis.set_visible(False)\n",
    "ax[3,5].set_axis_bgcolor('#343434')"
   ]
  },
  {
   "cell_type": "code",
   "execution_count": 18,
   "metadata": {},
   "outputs": [
    {
     "data": {
      "image/png": "[encoded data removed]",
      "text/plain": [
       "<matplotlib.figure.Figure at 0xebc1f60>"
      ]
     },
     "metadata": {},
     "output_type": "display_data"
    }
   ],
   "source": [
    "fig, ax = plt.subplots(4,6)\n",
    "fig.subplots_adjust(wspace=0, hspace=0)\n",
    "\n",
    "ax[0,0].yaxis.set_visible(False)\n",
    "ax[0,0].xaxis.set_visible(False)\n",
    "ax[0,0].set_axis_bgcolor(rgb[0])\n",
    "ax[0,1].yaxis.set_visible(False)\n",
    "ax[0,1].xaxis.set_visible(False)\n",
    "ax[0,1].set_axis_bgcolor(rgb[1])\n",
    "ax[0,2].yaxis.set_visible(False)\n",
    "ax[0,2].xaxis.set_visible(False)\n",
    "ax[0,2].set_axis_bgcolor(rgb[2])\n",
    "ax[0,3].yaxis.set_visible(False)\n",
    "ax[0,3].xaxis.set_visible(False)\n",
    "ax[0,3].set_axis_bgcolor(rgb[3])\n",
    "ax[0,4].yaxis.set_visible(False)\n",
    "ax[0,4].xaxis.set_visible(False)\n",
    "ax[0,4].set_axis_bgcolor(rgb[4])\n",
    "ax[0,5].yaxis.set_visible(False)\n",
    "ax[0,5].xaxis.set_visible(False)\n",
    "ax[0,5].set_axis_bgcolor(rgb[5])\n",
    "ax[1,0].yaxis.set_visible(False)\n",
    "ax[1,0].xaxis.set_visible(False)\n",
    "ax[1,0].set_axis_bgcolor(rgb[6])\n",
    "ax[1,1].yaxis.set_visible(False)\n",
    "ax[1,1].xaxis.set_visible(False)\n",
    "ax[1,1].set_axis_bgcolor(rgb[7])\n",
    "ax[1,2].yaxis.set_visible(False)\n",
    "ax[1,2].xaxis.set_visible(False)\n",
    "ax[1,2].set_axis_bgcolor(rgb[8])\n",
    "ax[1,3].yaxis.set_visible(False)\n",
    "ax[1,3].xaxis.set_visible(False)\n",
    "ax[1,3].set_axis_bgcolor(rgb[9])\n",
    "ax[1,4].yaxis.set_visible(False)\n",
    "ax[1,4].xaxis.set_visible(False)\n",
    "ax[1,4].set_axis_bgcolor(rgb[10])\n",
    "ax[1,5].yaxis.set_visible(False)\n",
    "ax[1,5].xaxis.set_visible(False)\n",
    "ax[1,5].set_axis_bgcolor(rgb[11])\n",
    "ax[2,0].yaxis.set_visible(False)\n",
    "ax[2,0].xaxis.set_visible(False)\n",
    "ax[2,0].set_axis_bgcolor(rgb[12])\n",
    "ax[2,1].yaxis.set_visible(False)\n",
    "ax[2,1].xaxis.set_visible(False)\n",
    "ax[2,1].set_axis_bgcolor(rgb[13])\n",
    "ax[2,2].yaxis.set_visible(False)\n",
    "ax[2,2].xaxis.set_visible(False)\n",
    "ax[2,2].set_axis_bgcolor(rgb[14])\n",
    "ax[2,3].yaxis.set_visible(False)\n",
    "ax[2,3].xaxis.set_visible(False)\n",
    "ax[2,3].set_axis_bgcolor(rgb[15])\n",
    "ax[2,4].yaxis.set_visible(False)\n",
    "ax[2,4].xaxis.set_visible(False)\n",
    "ax[2,4].set_axis_bgcolor(rgb[16])\n",
    "ax[2,5].yaxis.set_visible(False)\n",
    "ax[2,5].xaxis.set_visible(False)\n",
    "ax[2,5].set_axis_bgcolor(rgb[17])\n",
    "ax[3,0].yaxis.set_visible(False)\n",
    "ax[3,0].xaxis.set_visible(False)\n",
    "ax[3,0].set_axis_bgcolor(rgb[18])\n",
    "ax[3,1].yaxis.set_visible(False)\n",
    "ax[3,1].xaxis.set_visible(False)\n",
    "ax[3,1].set_axis_bgcolor(rgb[19])\n",
    "ax[3,2].yaxis.set_visible(False)\n",
    "ax[3,2].xaxis.set_visible(False)\n",
    "ax[3,2].set_axis_bgcolor(rgb[20])\n",
    "ax[3,3].yaxis.set_visible(False)\n",
    "ax[3,3].xaxis.set_visible(False)\n",
    "ax[3,3].set_axis_bgcolor(rgb[21])\n",
    "ax[3,4].yaxis.set_visible(False)\n",
    "ax[3,4].xaxis.set_visible(False)\n",
    "ax[3,4].set_axis_bgcolor(rgb[22])\n",
    "ax[3,5].yaxis.set_visible(False)\n",
    "ax[3,5].xaxis.set_visible(False)\n",
    "ax[3,5].set_axis_bgcolor(rgb[23])"
   ]
  }
 ],
 "metadata": {
  "anaconda-cloud": {},
  "kernelspec": {
   "display_name": "Python 2",
   "language": "python",
   "name": "python2"
  },
  "language_info": {
   "codemirror_mode": {
    "name": "ipython",
    "version": 2
   },
   "file_extension": ".py",
   "mimetype": "text/x-python",
   "name": "python",
   "nbconvert_exporter": "python",
   "pygments_lexer": "ipython2",
   "version": "2.7.12"
  }
 },
 "nbformat": 4,
 "nbformat_minor": 1
}
